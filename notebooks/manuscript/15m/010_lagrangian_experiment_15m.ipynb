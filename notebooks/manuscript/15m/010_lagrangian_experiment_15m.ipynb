{
 "cells": [
  {
   "cell_type": "markdown",
   "id": "proof-release",
   "metadata": {},
   "source": [
    "# Basic experiment covering the whole North Sea Region"
   ]
  },
  {
   "cell_type": "markdown",
   "id": "3c9c5751-8a65-4428-a769-bcd2b4d823e5",
   "metadata": {},
   "source": [
    "## Parameters\n",
    "\n",
    "We want to be able to externally control the\n",
    "- start date (year, month, day)\n",
    "- the run length\n",
    "- the number of particles\n",
    "- the start depth\n",
    "- random seed (directly influences the start positions)"
   ]
  },
  {
   "cell_type": "code",
   "execution_count": 1,
   "id": "lucky-valuation",
   "metadata": {
    "tags": [
     "parameters"
    ]
   },
   "outputs": [],
   "source": [
    "# start date\n",
    "# Reference date + offset in days. We'll use integer days and argue that due\n",
    "# to the random spatial seeding, this is largely equivalent to also randomizing \n",
    "# seeding times.\n",
    "start_date_reference = \"2019-05-15T00:00:00\"\n",
    "start_date_offset_days = 0\n",
    "\n",
    "# run length\n",
    "runtime_days = 28\n",
    "\n",
    "# number of particles\n",
    "number_particles = 1_000\n",
    "\n",
    "# start depth\n",
    "start_depth_meters = 4\n",
    "\n",
    "# RNG state\n",
    "RNG_seed = 12345\n",
    "\n",
    "# runtime parameters\n",
    "#dt_in_minutes = 10  # 1.5km, 1.5m/s --> 1000s & divide by 2 to be on the safe side\n",
    "output_dt_hours = 1\n",
    "\n",
    "# experiment duration etc\n",
    "# runtime_in_days = 14\n",
    "dt_in_minutes = 30  # more/less?\n",
    "\n",
    "# location of input data \n",
    "data_path = '/gxfs_work/geomar/smomw122/2022_north-sea_oysters_data_ocean/'\n",
    "\n",
    "# file name patterns\n",
    "# We go for loading all available time steps as this avoids problems with long experiments\n",
    "# running across the end of the loaded data.\n",
    "data_filename_cur = 'MetO-NWS-PHY-hi-CUR/????/??/*.nc'\n",
    "data_filename_tem = 'MetO-NWS-PHY-hi-TEM/????/??/*.nc'\n",
    "data_filename_sal = 'MetO-NWS-PHY-hi-SAL/????/??/*.nc'\n",
    "\n",
    "# location of output data\n",
    "outpath = '../../../output_data/010_lagrangian_experiment/'\n",
    "output_filename_pattern = (\n",
    "    'north-sea_oysters_start-ref-{start_date_ref:s}_start-offset-{start_date_offset_days:03d}'\n",
    "    '_RT-{runtime_days:04d}_N-{number_particles:09d}_seed-{RNG_seed:09d}_start-depth-meters-{start_depth_meters:03d}.nc'\n",
    ")"
   ]
  },
  {
   "cell_type": "markdown",
   "id": "d74f2d38-41d9-40f8-9f1c-8ce954d82677",
   "metadata": {},
   "source": [
    "## Now do the imports"
   ]
  },
  {
   "cell_type": "code",
   "execution_count": 1,
   "id": "conventional-victor",
   "metadata": {},
   "outputs": [],
   "source": [
    "from parcels import (\n",
    "    ErrorCode,\n",
    "    FieldSet,\n",
    "    Field,\n",
    "    JITParticle,\n",
    "    ScipyParticle,\n",
    "    ParticleSet,\n",
    "    AdvectionRK4,\n",
    "    Variable,\n",
    ")\n",
    "\n",
    "import cmocean\n",
    "\n",
    "from operator import attrgetter\n",
    "from datetime import datetime, timedelta\n",
    "\n",
    "import numpy as np\n",
    "from pathlib import Path\n",
    "import matplotlib.pyplot as plt\n",
    "import xarray as xr\n",
    "import pandas as pd\n",
    "from glob import glob\n",
    "from shapely.geometry import Polygon, Point\n",
    "from functools import reduce"
   ]
  },
  {
   "cell_type": "raw",
   "id": "cfb0e36e-f425-4906-852d-3d5757d3a7ab",
   "metadata": {},
   "source": [
    "## Initialize random state"
   ]
  },
  {
   "cell_type": "raw",
   "id": "4dd4148b-e2a8-43c6-9651-c8464b54f6d2",
   "metadata": {},
   "source": [
    "if RNG_seed is None:\n",
    "    np.random.seed(None)\n",
    "    RNG_seed = np.random.randint(999_999)\n",
    "print(RNG_seed)\n",
    "\n",
    "np.random.seed(RNG_seed)\n",
    "print(np.random.uniform(0, 1, size=(3, ))) "
   ]
  },
  {
   "cell_type": "markdown",
   "id": "square-marking",
   "metadata": {},
   "source": [
    "## Construct input / output paths"
   ]
  },
  {
   "cell_type": "markdown",
   "id": "bc8730c0-fadb-48f1-89b2-ecb53536253d",
   "metadata": {},
   "source": [
    "### Inputs"
   ]
  },
  {
   "cell_type": "code",
   "execution_count": 4,
   "id": "040ccc7f-cbd3-4be1-84a2-6c4181965b78",
   "metadata": {
    "tags": []
   },
   "outputs": [],
   "source": [
    "file_list_cur = sorted(Path(data_path).glob(data_filename_cur))\n",
    "file_list_tem = sorted(Path(data_path).glob(data_filename_tem))\n",
    "file_list_sal = sorted(Path(data_path).glob(data_filename_sal))"
   ]
  },
  {
   "cell_type": "code",
   "execution_count": 5,
   "id": "303bd5e4-d9a1-4af7-b438-2f3fd51597b1",
   "metadata": {},
   "outputs": [
    {
     "data": {
      "text/plain": [
       "(PosixPath('/gxfs_work1/geomar/smomw529/2022_north-sea_oysters/data/ocean/MetO-NWS-PHY-hi-CUR/2019/01/metoffice_foam1_amm15_NWS_CUR_b20190103_hi20190101.nc'),\n",
       " PosixPath('/gxfs_work1/geomar/smomw529/2022_north-sea_oysters/data/ocean/MetO-NWS-PHY-hi-CUR/2022/08/metoffice_foam1_amm15_NWS_CUR_b20220817_hi20220822.nc'))"
      ]
     },
     "execution_count": 5,
     "metadata": {},
     "output_type": "execute_result"
    }
   ],
   "source": [
    "file_list_cur[0], file_list_cur[-1]"
   ]
  },
  {
   "cell_type": "markdown",
   "id": "359ca1ff-6f75-47b0-a219-fea70f251f9e",
   "metadata": {},
   "source": [
    "### Outputs"
   ]
  },
  {
   "cell_type": "code",
   "execution_count": 6,
   "id": "b441f621-4eb7-4a1a-897f-4a727dec9393",
   "metadata": {
    "tags": []
   },
   "outputs": [
    {
     "name": "stdout",
     "output_type": "stream",
     "text": [
      "../../output_data/010_lagrangian_experiment/north-sea_oysters_start-ref-2019-05-15T00:00:00_start-offset-000_RT-0028_N-000001000_seed-000012345.nc\n"
     ]
    }
   ],
   "source": [
    "outpath = Path(outpath)\n",
    "\n",
    "# output_filename_pattern = (\n",
    "#     'north-sea_oysters_start-ref-{start_date_ref:s}_start-offset-{start_date_offset_days:03d}'\n",
    "#     '_RT-{runtime_days:04d}_N-{number_particles:09d}_seed-{RNG_seed:09d}.nc'\n",
    "# )\n",
    "\n",
    "output_filename = output_filename_pattern.format(\n",
    "    start_date_ref=start_date_reference,\n",
    "    start_date_offset_days=start_date_offset_days,\n",
    "    RNG_seed=RNG_seed,\n",
    "    runtime_days=runtime_days,\n",
    "    number_particles=number_particles,\n",
    "    start_depth_meters=start_depth_meters,\n",
    ")\n",
    "outfile = outpath / output_filename\n",
    "\n",
    "print(outfile)"
   ]
  },
  {
   "cell_type": "code",
   "execution_count": 7,
   "id": "d19f0193-46f4-4fd2-bfd0-78718fa6ccd0",
   "metadata": {},
   "outputs": [],
   "source": [
    "if outfile.exists():\n",
    "    raise Exception(f\"Nothing to do for {outfile}\")"
   ]
  },
  {
   "cell_type": "markdown",
   "id": "parliamentary-appeal",
   "metadata": {},
   "source": [
    "## Construct release locations\n",
    "\n",
    "1. Read velocity field to find region to cover.\n",
    "2. Construct topography.\n",
    "3. Calculate relation `R_ocean` of area between water covered and whole region.\n",
    "4. Draw `N * R_ocean` random positions and throw out land-covered positions."
   ]
  },
  {
   "cell_type": "code",
   "execution_count": 8,
   "id": "3323b7de-07f4-4dad-8fbd-8f0510ea8074",
   "metadata": {},
   "outputs": [
    {
     "data": {
      "text/plain": [
       "<matplotlib.collections.QuadMesh at 0x7fcf47eeb940>"
      ]
     },
     "execution_count": 8,
     "metadata": {},
     "output_type": "execute_result"
    },
    {
     "data": {
      "image/png": "[encoded data removed]",
      "text/plain": [
       "<Figure size 432x288 with 2 Axes>"
      ]
     },
     "metadata": {
      "needs_background": "light"
     },
     "output_type": "display_data"
    }
   ],
   "source": [
    "ds0_cur = xr.open_dataset(file_list_cur[0])\n",
    "\n",
    "topo = ds0_cur.depth.where(~ds0_cur.uo.isel(time=0, drop=True).isnull()).max(\"depth\") \n",
    "topo.plot()"
   ]
  },
  {
   "cell_type": "code",
   "execution_count": 9,
   "id": "cea8f278-f116-40f0-90ef-6402eef8cc2b",
   "metadata": {},
   "outputs": [
    {
     "name": "stdout",
     "output_type": "stream",
     "text": [
      "1872\n"
     ]
    }
   ],
   "source": [
    "fraction_water_covered = (\n",
    "    ((topo > start_depth_meters) * np.cos(np.deg2rad(topo.lat))).sum()\n",
    "    / (xr.ones_like(topo) * np.cos(np.deg2rad(topo.lat))).sum()\n",
    ")\n",
    "corr_number_particles = int(1.1 * np.ceil(number_particles / fraction_water_covered.data[()]))  # apply +10% margin\n",
    "print(corr_number_particles)"
   ]
  },
  {
   "cell_type": "code",
   "execution_count": 10,
   "id": "24507c27-4faf-4417-beb3-ca68a6b61a88",
   "metadata": {},
   "outputs": [],
   "source": [
    "lat_start, lat_end = topo.lat.min(), topo.lat.max()\n",
    "lon_start, lon_end = topo.lon.min(), topo.lon.max()"
   ]
  },
  {
   "cell_type": "code",
   "execution_count": 2,
   "id": "0cd7e873-572a-42d7-9262-5faaeaabb849",
   "metadata": {},
   "outputs": [],
   "source": [
    "from lib.release_zones import get_uniform_random_latlon_in"
   ]
  },
  {
   "cell_type": "code",
   "execution_count": null,
   "id": "b73051c8-eb07-44a2-8370-f3a68db8e623",
   "metadata": {},
   "outputs": [],
   "source": [
    "release_points = get_uniform_random_latlon_in(\n",
    "    lat_start, lat_end, lon_start, lon_end, N=corr_number_particles,\n",
    ")\n",
    "release_points[\"topo\"] = topo.sel(\n",
    "    lat=release_points.to_xarray().lat,\n",
    "    lon=release_points.to_xarray().lon,\n",
    "    method=\"nearest\",\n",
    ")\n",
    "release_points = release_points.where(\n",
    "    release_points.topo > start_depth_meters\n",
    ").dropna().iloc[:number_particles].reset_index(drop=True)\n",
    "\n",
    "assert len(release_points) == number_particles"
   ]
  },
  {
   "cell_type": "code",
   "execution_count": null,
   "id": "bda6c132-1944-4d50-8703-6a8f4ab01f32",
   "metadata": {},
   "outputs": [],
   "source": [
    "release_points.plot.scatter(\n",
    "    x=\"lon\", y=\"lat\", s=14, c=\"topo\",\n",
    "    cmap=cmocean.cm.deep,\n",
    "    figsize=(10, 10),\n",
    ");"
   ]
  },
  {
   "cell_type": "markdown",
   "id": "integral-parent",
   "metadata": {},
   "source": [
    "## Create input fields"
   ]
  },
  {
   "cell_type": "markdown",
   "id": "df72c134-ee6f-4f03-b67a-25b0ca9943e8",
   "metadata": {},
   "source": [
    "First, let's create a land mask:"
   ]
  },
  {
   "cell_type": "code",
   "execution_count": null,
   "id": "644f3585-cff5-476c-ae49-3d24a79f626c",
   "metadata": {},
   "outputs": [],
   "source": [
    "ds0_tem = xr.open_dataset(file_list_tem[0])\n",
    "land = ds0_tem.thetao.isel(time=0).isnull().astype(float)\n",
    "land_field = Field.from_xarray(\n",
    "    land,\n",
    "    name=\"land\",\n",
    "    # variables={\"land\": \"land\"},\n",
    "    dimensions = {'lat': 'lat', 'lon': 'lon', 'depth': 'depth'},\n",
    ")"
   ]
  },
  {
   "cell_type": "markdown",
   "id": "802d4be8-05cd-4e32-91df-0766d09b78cb",
   "metadata": {},
   "source": [
    "Then, load the time dependent fields (T, S, U, V):"
   ]
  },
  {
   "cell_type": "code",
   "execution_count": null,
   "id": "9f8bd339-5f91-4200-b40b-1fd92d1d37f9",
   "metadata": {},
   "outputs": [],
   "source": [
    "filenames = {\n",
    "    'T': file_list_tem, \n",
    "    'S': file_list_sal, \n",
    "    'U': file_list_cur, \n",
    "    'V': file_list_cur,\n",
    "}\n",
    "variables = {\n",
    "    'T': 'thetao', \n",
    "    'S': 'so', \n",
    "    'U': 'uo', \n",
    "    'V': 'vo',\n",
    "}\n",
    "dimensions = {\n",
    "    'lat': 'lat', \n",
    "    'lon': 'lon', \n",
    "    'depth': 'depth', \n",
    "    'time': 'time',\n",
    "}\n",
    "\n",
    "fieldset = FieldSet.from_netcdf(\n",
    "    filenames, \n",
    "    variables, \n",
    "    dimensions, \n",
    "    allow_time_extrapolation=False,\n",
    ")"
   ]
  },
  {
   "cell_type": "markdown",
   "id": "977ce5e5-bdf7-4665-83ce-a963ae1f9075",
   "metadata": {},
   "source": [
    "And add the land field:"
   ]
  },
  {
   "cell_type": "code",
   "execution_count": null,
   "id": "1559a15e-d849-4f46-9ab5-3c7d37495a46",
   "metadata": {},
   "outputs": [],
   "source": [
    "fieldset.add_field(land_field)"
   ]
  },
  {
   "cell_type": "markdown",
   "id": "specific-colon",
   "metadata": {},
   "source": [
    "## Particleset"
   ]
  },
  {
   "cell_type": "markdown",
   "id": "1ecddecb-017f-4ed6-b8af-14ef48c19603",
   "metadata": {},
   "source": [
    "### Particle type which is able to sample tracers"
   ]
  },
  {
   "cell_type": "code",
   "execution_count": null,
   "id": "39cafe30-3188-4a8e-8adf-4b9d2f0d656f",
   "metadata": {},
   "outputs": [],
   "source": [
    "class SampleParticleInitZero(JITParticle):\n",
    "    temperature = Variable('temperature', initial=-1000)\n",
    "    salinity = Variable('salinity', initial=-1000)\n",
    "    land = Variable('land', initial=-1000)"
   ]
  },
  {
   "cell_type": "markdown",
   "id": "6aa207f2-3cd0-461e-81ca-a2450c71efe5",
   "metadata": {},
   "source": [
    "### Position and time arrays:"
   ]
  },
  {
   "cell_type": "code",
   "execution_count": null,
   "id": "65620a85-b670-4d97-881a-5198367e0a1f",
   "metadata": {},
   "outputs": [],
   "source": [
    "lat = release_points['lat'][:]\n",
    "lon = release_points['lon'][:]\n",
    "depth = np.ones_like(lat) * start_depth_meters "
   ]
  },
  {
   "cell_type": "code",
   "execution_count": null,
   "id": "49daa515-442d-44bd-b9bb-9d06638f4e4d",
   "metadata": {},
   "outputs": [],
   "source": [
    "time_origin = np.datetime64(start_date_reference)\n",
    "time_origin"
   ]
  },
  {
   "cell_type": "code",
   "execution_count": null,
   "id": "5235a591-43c2-4536-96be-5f307548f4d6",
   "metadata": {},
   "outputs": [],
   "source": [
    "time = (\n",
    "    time_origin \n",
    "    + np.timedelta64(start_date_offset_days, \"D\") * np.ones_like(lat).astype(int)\n",
    ")\n",
    "time[:5]"
   ]
  },
  {
   "cell_type": "markdown",
   "id": "f725eccd-fdc0-4a5c-81c8-0ff5bbb20220",
   "metadata": {},
   "source": [
    "### Particle set"
   ]
  },
  {
   "cell_type": "code",
   "execution_count": null,
   "id": "137769eb-e25d-4008-bbbe-ce6ff08e14f8",
   "metadata": {},
   "outputs": [],
   "source": [
    "pset = ParticleSet(\n",
    "    fieldset=fieldset,\n",
    "    pclass=SampleParticleInitZero,\n",
    "    lat=lat,\n",
    "    lon=lon,\n",
    "    depth=depth,\n",
    "    time=time\n",
    ")"
   ]
  },
  {
   "cell_type": "markdown",
   "id": "95102202-94f8-467c-9ef3-6ca8369c1a70",
   "metadata": {},
   "source": [
    "## Kernel etc."
   ]
  },
  {
   "cell_type": "markdown",
   "id": "2233b08c-3034-496c-9cd0-1254582c8f35",
   "metadata": {},
   "source": [
    "Create kernel which does the sampling and add advection kernel."
   ]
  },
  {
   "cell_type": "code",
   "execution_count": null,
   "id": "25c4d26e-f690-4e20-b57c-762e75642306",
   "metadata": {},
   "outputs": [],
   "source": [
    "def SampleTSL(particle, fieldset, time):\n",
    "    particle.temperature = fieldset.T[time, particle.depth, particle.lat, particle.lon]\n",
    "    particle.salinity = fieldset.S[time, particle.depth, particle.lat, particle.lon]\n",
    "    particle.land = fieldset.land[time, particle.depth, particle.lat, particle.lon]\n",
    "\n",
    "    \n",
    "sample_kernel = pset.Kernel(SampleTSL)    # Casting the SampleT function to a kernel."
   ]
  },
  {
   "cell_type": "code",
   "execution_count": null,
   "id": "concerned-asian",
   "metadata": {},
   "outputs": [],
   "source": [
    "kernel = pset.Kernel(AdvectionRK4) + sample_kernel   #2d advection and ST sampling"
   ]
  },
  {
   "cell_type": "markdown",
   "id": "298f346b-2c7a-4787-a8da-466e8a0feb7d",
   "metadata": {},
   "source": [
    "Error handling:"
   ]
  },
  {
   "cell_type": "code",
   "execution_count": null,
   "id": "4097c1d7-9fbf-49de-9887-102c4944a957",
   "metadata": {},
   "outputs": [],
   "source": [
    "def DeleteParticle(particle, fieldset, time):\n",
    "    particle.delete()\n",
    "    \n",
    "recovery_cases = {\n",
    "    ErrorCode.ErrorOutOfBounds: DeleteParticle\n",
    "}"
   ]
  },
  {
   "cell_type": "markdown",
   "id": "ab22e72e-6e92-4969-937c-94de70ceeacf",
   "metadata": {},
   "source": [
    "### Output"
   ]
  },
  {
   "cell_type": "code",
   "execution_count": null,
   "id": "bd1583c5-0653-4c88-b2f5-a838855774d6",
   "metadata": {},
   "outputs": [],
   "source": [
    "outfile.parent.mkdir(exist_ok=True)  # ensure dir exists"
   ]
  },
  {
   "cell_type": "code",
   "execution_count": null,
   "id": "virtual-first",
   "metadata": {},
   "outputs": [],
   "source": [
    "output_pfile = pset.ParticleFile(name=outfile, outputdt=timedelta(hours=output_dt_hours))"
   ]
  },
  {
   "cell_type": "markdown",
   "id": "03567348-3fc5-4d3a-b551-9c69da73251e",
   "metadata": {},
   "source": [
    "## Run experiment"
   ]
  },
  {
   "cell_type": "markdown",
   "id": "0de76489-bad2-4036-a250-96063b80d10b",
   "metadata": {},
   "source": [
    "### Initialize sampling"
   ]
  },
  {
   "cell_type": "code",
   "execution_count": null,
   "id": "19839f90-d59c-4565-8742-d067730bdafb",
   "metadata": {},
   "outputs": [],
   "source": [
    "print(\"before init:\", pset[0])"
   ]
  },
  {
   "cell_type": "code",
   "execution_count": null,
   "id": "intelligent-rating",
   "metadata": {},
   "outputs": [],
   "source": [
    "# just sampling\n",
    "pset.execute(\n",
    "    sample_kernel,\n",
    "    runtime=timedelta(days=0),\n",
    "    dt=timedelta(minutes=dt_in_minutes),\n",
    ")"
   ]
  },
  {
   "cell_type": "code",
   "execution_count": null,
   "id": "8ab8aec3-430f-433e-974a-c3923e408bb7",
   "metadata": {},
   "outputs": [],
   "source": [
    "print(\"after init:\", pset[0])"
   ]
  },
  {
   "cell_type": "markdown",
   "id": "d591254d-7742-4d08-b4ed-683c954094c9",
   "metadata": {},
   "source": [
    "### Full execution"
   ]
  },
  {
   "cell_type": "code",
   "execution_count": null,
   "id": "3702ddae-83ec-4b32-a982-e6d1eb4dfab0",
   "metadata": {},
   "outputs": [],
   "source": [
    "pset.execute(\n",
    "    kernel,\n",
    "    runtime=timedelta(days=runtime_days),\n",
    "    dt=timedelta(minutes=dt_in_minutes),\n",
    "    output_file=output_pfile,\n",
    "    recovery=recovery_cases,\n",
    ")"
   ]
  },
  {
   "cell_type": "code",
   "execution_count": null,
   "id": "chemical-darkness",
   "metadata": {},
   "outputs": [],
   "source": [
    "output_pfile.export()"
   ]
  },
  {
   "cell_type": "markdown",
   "id": "f7b54964-9fd4-423a-a655-a02eeb22c9db",
   "metadata": {},
   "source": [
    "## Have a brief look"
   ]
  },
  {
   "cell_type": "code",
   "execution_count": null,
   "id": "fixed-perspective",
   "metadata": {},
   "outputs": [],
   "source": [
    "particle_ds = xr.open_dataset(outfile)\n",
    "particle_ds"
   ]
  },
  {
   "cell_type": "markdown",
   "id": "357ff8ab-53cd-41a6-9d60-8e28f2c5a585",
   "metadata": {},
   "source": [
    "Filter invalid first positions"
   ]
  },
  {
   "cell_type": "code",
   "execution_count": null,
   "id": "ee2a6dc3-d5ab-412c-9afc-b3d1376fe7b0",
   "metadata": {},
   "outputs": [],
   "source": [
    "particle_ds = particle_ds.where(particle_ds.temperature != -1000)"
   ]
  },
  {
   "cell_type": "code",
   "execution_count": null,
   "id": "dfbb8d4a-0cb2-42ef-a72b-c4dd183fe1d0",
   "metadata": {},
   "outputs": [],
   "source": [
    "particle_ds.plot.scatter(\n",
    "    x=\"lon\", y=\"lat\", s=1, hue=\"land\",\n",
    "    alpha=0.2,\n",
    "    size=9,\n",
    ")"
   ]
  }
 ],
 "metadata": {
  "kernelspec": {
   "display_name": "parcels",
   "language": "python",
   "name": "parcels"
  },
  "language_info": {
   "codemirror_mode": {
    "name": "ipython",
    "version": 3
   },
   "file_extension": ".py",
   "mimetype": "text/x-python",
   "name": "python",
   "nbconvert_exporter": "python",
   "pygments_lexer": "ipython3",
   "version": "3.12.5"
  }
 },
 "nbformat": 4,
 "nbformat_minor": 5
}
