{
 "cells": [
  {
   "cell_type": "code",
   "execution_count": 1,
   "id": "f62ca8e7-c54c-471e-847b-4045f43b9946",
   "metadata": {},
   "outputs": [],
   "source": [
    "import xarray as xr\n",
    "import numpy as np\n",
    "import pandas as pd\n",
    "from dask.distributed import Client, wait\n",
    "from dask import array as darr\n",
    "\n",
    "from pathlib import Path\n",
    "\n",
    "import hextraj"
   ]
  },
  {
   "cell_type": "code",
   "execution_count": 2,
   "id": "2f750974-5268-4fa6-a0f2-bf093d41bfa3",
   "metadata": {},
   "outputs": [],
   "source": [
    "import cartopy\n",
    "from matplotlib import pyplot as plt"
   ]
  },
  {
   "cell_type": "markdown",
   "id": "01619dc1-b677-417e-8de7-23154fc5b1ff",
   "metadata": {},
   "source": [
    "## Parameters\n",
    "\n",
    "We need to specify a few things for the trajectory data (location, chunks).\n",
    "\n",
    "We also need to specify the hex projectoin. We choose a central position well withing the NWE shelf region (3W, 54.5N) and a hex size (radius) of 10 km"
   ]
  },
  {
   "cell_type": "code",
   "execution_count": 3,
   "id": "eae69653-5d03-476a-8e2d-7b1051f5cb9e",
   "metadata": {},
   "outputs": [],
   "source": [
    "# parameters\n",
    "\n",
    "data_path = \"../../../output_data/010_lagrangian_experiment/\"\n",
    "_chunks_traj = 20_000\n",
    "_chunks_obs = -1\n",
    "\n",
    "chunks_traj = 20_000\n",
    "chunks_obs = -1\n",
    "\n",
    "# ~ center of NWE Shelf dataset\n",
    "lon_origin = -3.0\n",
    "lat_origin = 54.5\n",
    "\n",
    "hex_size_meters = 10_000  # radius of hexes\n",
    "\n",
    "max_land_allowed = 0"
   ]
  },
  {
   "cell_type": "markdown",
   "id": "332570a7-f9e2-4083-9154-12271500a9e6",
   "metadata": {},
   "source": [
    "## Open the trajectory data"
   ]
  },
  {
   "cell_type": "code",
   "execution_count": 4,
   "id": "2e11abd6-8462-45ac-b526-ce0ea9231f43",
   "metadata": {},
   "outputs": [
    {
     "name": "stdout",
     "output_type": "stream",
     "text": [
      "../../../output_data/010_lagrangian_experiment/north-sea_oysters_start-ref-2019-05-15T00:00:00_start-offset-000_RT-0028_N-000100000_seed-576251074_start-depth-meters-010.nc\n",
      "122\n",
      "122\n",
      "122\n",
      "73\n",
      "../../../output_data/010_lagrangian_experiment/north-sea_oysters_start-ref-2019-05-15T00:00:00_start-offset-121_RT-0028_N-000100000_seed-723534670_start-depth-meters-010.nc\n"
     ]
    }
   ],
   "source": [
    "data_files = {y: sorted(\n",
    "              f for f in Path(data_path).glob(f\"*{y:4d}-05-15*.nc\")\n",
    "              if \"start-depth-meters-010\" in f.name\n",
    "              ) \n",
    "              for y in [2019, 2020, 2021, 2022]\n",
    "}\n",
    "print(data_files[2019][0])\n",
    "print(len(data_files[2019]))\n",
    "print(len(data_files[2020]))\n",
    "print(len(data_files[2021]))\n",
    "print(len(data_files[2022]))\n",
    "print(data_files[2019][-1])"
   ]
  },
  {
   "cell_type": "code",
   "execution_count": 5,
   "id": "02f6e148-fc79-43c1-82d0-717536d4ff47",
   "metadata": {},
   "outputs": [],
   "source": [
    "from tqdm import tqdm"
   ]
  },
  {
   "cell_type": "code",
   "execution_count": null,
   "id": "86d946e8-9682-4af0-b9c1-586d7f8a08f2",
   "metadata": {},
   "outputs": [
    {
     "name": "stderr",
     "output_type": "stream",
     "text": [
      "100%|██████████| 122/122 [00:25<00:00,  4.70it/s]\n",
      "100%|██████████| 122/122 [00:26<00:00,  4.62it/s]\n",
      " 10%|▉         | 12/122 [00:02<00:20,  5.42it/s]"
     ]
    }
   ],
   "source": [
    "data_files_valid = {}\n",
    "for y in data_files.keys():\n",
    "    _valid_files = []\n",
    "    for f in tqdm(data_files[y]):\n",
    "        try:\n",
    "            _ = xr.open_dataset(f)\n",
    "            _valid_files.append(f)\n",
    "        except:\n",
    "            pass\n",
    "    data_files_valid[y] = _valid_files"
   ]
  },
  {
   "cell_type": "code",
   "execution_count": null,
   "id": "d620d01b-7999-473f-975a-55088d29e14d",
   "metadata": {},
   "outputs": [],
   "source": [
    "data_files = data_files_valid"
   ]
  },
  {
   "cell_type": "code",
   "execution_count": null,
   "id": "332184ec-af4c-4c23-9152-8451d4f06fdb",
   "metadata": {},
   "outputs": [],
   "source": [
    "ds = {\n",
    "    y: xr.open_mfdataset(\n",
    "        data_files[y],\n",
    "        chunks={\"traj\": _chunks_traj, \"obs\": _chunks_obs},\n",
    "        combine=\"nested\",\n",
    "        concat_dim=\"offset\",\n",
    "        # not sure what's wrong here, but we cannot write\n",
    "        # zarr store in parallel if we decode:\n",
    "        decode_cf=False,\n",
    "    )\n",
    "    for y in data_files.keys()\n",
    "}\n",
    "for y in ds.keys():\n",
    "    ds[y] = ds[y].assign_coords(offset=(\"offset\", list(range(ds[y].dims[\"offset\"]))))\n",
    "    \n",
    "ds = xr.concat(ds.values(), dim=\"year\")\n",
    "\n",
    "display(ds)\n",
    "print(ds.nbytes / 1e9, \"GiB\")"
   ]
  },
  {
   "cell_type": "raw",
   "id": "1e587f80-95a3-4295-8cd4-a7978b5bc107",
   "metadata": {},
   "source": [
    "ds = ds.drop([\"trajectory\", \"z\"])\n",
    "ds"
   ]
  },
  {
   "cell_type": "markdown",
   "id": "f2c6e7ea-58db-46e1-8a53-abf970d2c18b",
   "metadata": {},
   "source": [
    "## Dask"
   ]
  },
  {
   "cell_type": "code",
   "execution_count": null,
   "id": "dba321a9-d020-44a6-b72c-0a0fbf20ee0f",
   "metadata": {},
   "outputs": [],
   "source": [
    "#client = Client(n_workers=4, threads_per_worker=4, memory_limit=32e9, ip=\"0.0.0.0\")\n",
    "client = Client(scheduler_file=\"../../../scheduler.json\")\n",
    "#client.restart()\n",
    "client"
   ]
  },
  {
   "cell_type": "code",
   "execution_count": null,
   "id": "ec30e74a-e08e-4817-905a-d48bead78edc",
   "metadata": {},
   "outputs": [],
   "source": [
    "ds.encoding = {}\n",
    "for v in ds.data_vars:\n",
    "    ds[v].encoding = {}"
   ]
  },
  {
   "cell_type": "code",
   "execution_count": 21,
   "id": "9d78141b-e9ff-4487-8395-fe90555122b3",
   "metadata": {},
   "outputs": [
    {
     "name": "stdout",
     "output_type": "stream",
     "text": [
      "CPU times: user 5.25 s, sys: 669 ms, total: 5.92 s\n",
      "Wall time: 7min 10s\n"
     ]
    }
   ],
   "source": [
    "%%time\n",
    "\n",
    "_ = ds.to_zarr(\n",
    "    \"../../../output_data/010_lagrangian_experiment_10m.zarr/\",\n",
    "    mode=\"w\",\n",
    ");"
   ]
  }
 ],
 "metadata": {
  "kernelspec": {
   "display_name": "parcels",
   "language": "python",
   "name": "parcels"
  },
  "language_info": {
   "codemirror_mode": {
    "name": "ipython",
    "version": 3
   },
   "file_extension": ".py",
   "mimetype": "text/x-python",
   "name": "python",
   "nbconvert_exporter": "python",
   "pygments_lexer": "ipython3",
   "version": "3.12.5"
  }
 },
 "nbformat": 4,
 "nbformat_minor": 5
}
